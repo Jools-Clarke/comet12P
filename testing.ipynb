{
 "cells": [
  {
   "cell_type": "code",
   "execution_count": 1,
   "metadata": {},
   "outputs": [],
   "source": [
    "import utils as ut\n",
    "import numpy as np\n",
    "import matplotlib.pyplot as plt\n",
    "from matplotlib.patches import Ellipse"
   ]
  },
  {
   "cell_type": "code",
   "execution_count": 2,
   "metadata": {},
   "outputs": [],
   "source": [
    "#12P\n",
    "\n",
    "#eccentricity\n",
    "e = 0.954591\n",
    "#perihelion\n",
    "peri_h = 0.780784 #AU\n",
    "\n",
    "R_sun = 696340E3 / 1.5E11 #AU\n",
    "i = 74.1911\n",
    "\n",
    "a = peri_h / (1 - e)\n",
    "b = a * np.sqrt(1 - e**2)\n",
    "\n",
    "fp = (a / 2) - peri_h\n",
    "# (x**2/a**2) + (y**2/b**2) = 1"
   ]
  },
  {
   "cell_type": "code",
   "execution_count": 3,
   "metadata": {},
   "outputs": [
    {
     "data": {
      "image/png": "[encoded data removed]",
      "text/plain": [
       "<Figure size 432x288 with 1 Axes>"
      ]
     },
     "metadata": {
      "needs_background": "light"
     },
     "output_type": "display_data"
    }
   ],
   "source": [
    "x, y, fp_x, fp_y = ut.generate_ellipse_coordinates_fp(a, b, angle = np.deg2rad(i))\n",
    "plt.plot(x, y, 'r-', markersize=1)  # plot the ellipse\n",
    "\n",
    "plt.plot(fp_x, fp_y, 'bo')\n",
    "plt.ylim(fp_y-20, fp_y+20)\n",
    "plt.xlim(-fp_x - 20, -fp_x + 20)\n",
    "\n",
    "plt.savefig('12P.png')  # save the figure to file"
   ]
  },
  {
   "cell_type": "code",
   "execution_count": null,
   "metadata": {},
   "outputs": [],
   "source": []
  }
 ],
 "metadata": {
  "kernelspec": {
   "display_name": "base",
   "language": "python",
   "name": "python3"
  },
  "language_info": {
   "codemirror_mode": {
    "name": "ipython",
    "version": 3
   },
   "file_extension": ".py",
   "mimetype": "text/x-python",
   "name": "python",
   "nbconvert_exporter": "python",
   "pygments_lexer": "ipython3",
   "version": "3.9.12"
  }
 },
 "nbformat": 4,
 "nbformat_minor": 2
}
